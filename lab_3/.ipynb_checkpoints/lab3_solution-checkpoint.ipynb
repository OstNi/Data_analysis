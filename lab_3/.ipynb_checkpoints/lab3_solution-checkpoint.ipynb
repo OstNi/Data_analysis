{
 "cells": [
  {
   "cell_type": "markdown",
   "id": "3e55e508-be92-4409-802a-54cfbe2c55c7",
   "metadata": {
    "collapsed": true,
    "jupyter": {
     "outputs_hidden": true
    }
   },
   "source": [
    "## Задание 1\n",
    "\n",
    " С клавиатуры вводится количество стран K. Затем вводится  K строк, \n",
    "в каждой из которых указывается название страны и список городов в этой \n",
    "стране через пробел. Затем пользователь вводит 3 названия городов, после \n",
    "чего программа сообщает, в какой стране они находятся. Если такого города \n",
    "нет, то вывести соответствующее сообщение.\n",
    "\n",
    "#Пример:\n",
    "````\n",
    "Кол-во стран: 2\n",
    "1 страна: Россия Москва Петербург Новгород\n",
    "2 страна: Германия Берлин Лейпциг Мюнхен\n",
    "\n",
    "1 город: Москва\n",
    "Город Москва расположен в стране Россия.\n",
    "\n",
    "2 город: Мюнхен\n",
    "Город Мюнхен расположен в стране Германия.\n",
    "\n",
    "3 город: Рим\n",
    "По городу Рим данных нет.\n",
    "````\n",
    "'''"
   ]
  },
  {
   "cell_type": "code",
   "execution_count": 1,
   "id": "9625151d-517e-4ca5-a9bb-a056fe638b23",
   "metadata": {},
   "outputs": [],
   "source": [
    "def find_country(countries, city):\n",
    "    for country, cities in countries.items():\n",
    "        if city in cities:\n",
    "            return country\n",
    "    return None\n",
    "\n",
    "\n",
    "def tsk1():\n",
    "    k = int(input(\"Кол-во стран: \"))\n",
    "    \n",
    "    countries = {}\n",
    "    \n",
    "    # input\n",
    "    for i in range(k):\n",
    "        country_cities = input(f\"{i+1} страна: \").split()\n",
    "        country = country_cities[0]\n",
    "        cities = country_cities[1:]\n",
    "        countries[country] = cities\n",
    "\n",
    "    # ask\n",
    "    for i in range(3):\n",
    "        city = input(f\"{i+1} город: \")\n",
    "        country = find_country(countries, city)\n",
    "        if country:\n",
    "            print(f\"Город {city} расположен в стране {country}.\")\n",
    "        else:\n",
    "            print(f\"По городу {city} данных нет.\")"
   ]
  },
  {
   "cell_type": "code",
   "execution_count": 2,
   "id": "cce56683-9035-4239-bc05-c81300ab1462",
   "metadata": {},
   "outputs": [
    {
     "name": "stdin",
     "output_type": "stream",
     "text": [
      "Кол-во стран:  2\n",
      "1 страна:  Россия Москва Петербург Новгород\n",
      "2 страна:  Германия Берлин Лейпциг Мюнхен\n",
      "1 город:  Москва\n"
     ]
    },
    {
     "name": "stdout",
     "output_type": "stream",
     "text": [
      "Город Москва расположен в стране Россия.\n"
     ]
    },
    {
     "name": "stdin",
     "output_type": "stream",
     "text": [
      "2 город:  Мюнхен\n"
     ]
    },
    {
     "name": "stdout",
     "output_type": "stream",
     "text": [
      "Город Мюнхен расположен в стране Германия.\n"
     ]
    },
    {
     "name": "stdin",
     "output_type": "stream",
     "text": [
      "3 город:  Рим\n"
     ]
    },
    {
     "name": "stdout",
     "output_type": "stream",
     "text": [
      "По городу Рим данных нет.\n"
     ]
    }
   ],
   "source": [
    "tsk1()"
   ]
  },
  {
   "cell_type": "markdown",
   "id": "cebf48ae-36ce-4d43-a309-194a3d0be5ad",
   "metadata": {},
   "source": [
    " "
   ]
  },
  {
   "cell_type": "markdown",
   "id": "28b052ac-5a37-49ca-9669-f347d0f5c9c1",
   "metadata": {},
   "source": [
    "## Задание 2\n",
    "\n",
    "В пиццерии хранится информация о том, кто, что и сколько заказывал \n",
    "у них в определённый период. Нужно структурировать эту информацию, а \n",
    "также понять сколько всего пицц купил каждый заказчик. На вход в \n",
    "программу подаётся N заказов. Каждый заказ представляет собой строку вида \n",
    "Покупатель - название пиццы - количество заказанных пицц. Реализуйте код, \n",
    "который выводит список покупателей и их заказов по алфавиту. Учитывайте, \n",
    "что один человек может заказать одно и то же несколько раз\n",
    "\n",
    "#Пример 1:\n",
    "```\n",
    "Введите кол-во заказов: 6\n",
    "1 заказ: Иванов Пепперони 1\n",
    "2 заказ: Петров Де-Люкс 2\n",
    "3 заказ: Иванов Мясная 3\n",
    "4 заказ: Иванов Мексиканская 2\n",
    "5 заказ: Иванов Пепперони 2\n",
    "6 заказ: Петров Интересная 5\n",
    "\n",
    "Иванов: \n",
    "Мексиканская: 2\n",
    "Мясная: 3\n",
    "Пепперони: 3\n",
    "Петров:\n",
    "Де-Люкс: 2\n",
    "Интересная: 5\n",
    "```"
   ]
  },
  {
   "cell_type": "code",
   "execution_count": 4,
   "id": "35cc3d8f-5c05-4a50-9a4f-a31854d4c9a5",
   "metadata": {},
   "outputs": [],
   "source": [
    "def tsk2():\n",
    "    n = int(input(\"Введите кол-во заказов: \"))\n",
    "    orders = {}\n",
    "\n",
    "    # get orders \n",
    "    for i in range(n):\n",
    "        usr, pizza, cnt = input(f\"{i + 1} заказ: \").split()\n",
    "        cnt = int(cnt)\n",
    "\n",
    "        if usr in orders:\n",
    "            if pizza in orders[usr]:\n",
    "                orders[usr][pizza] += cnt\n",
    "            else:\n",
    "                orders[usr][pizza] = cnt\n",
    "        else:\n",
    "            orders[usr] = {pizza: cnt}\n",
    "\n",
    "    # output\n",
    "    for usr in sorted(orders.keys()):\n",
    "        print(f\"{usr}:\")\n",
    "        for pizza in sorted(orders[usr].keys()):\n",
    "            print(f\"{pizza}: {orders[usr][pizza]}\")\n",
    "\n"
   ]
  },
  {
   "cell_type": "code",
   "execution_count": 5,
   "id": "46c4d7bd-19ff-4400-9125-0b14287a0a05",
   "metadata": {},
   "outputs": [
    {
     "name": "stdin",
     "output_type": "stream",
     "text": [
      "Введите кол-во заказов:  6\n",
      "1 заказ:  Иванов Пепперони 1\n",
      "2 заказ:  Петров Де-Люкс 2\n",
      "3 заказ:  Иванов Мясная 3\n",
      "4 заказ:  Иванов Мексиканская 2\n",
      "5 заказ:  Иванов Пепперони 2\n",
      "6 заказ:  Петров Интересная 5\n"
     ]
    },
    {
     "name": "stdout",
     "output_type": "stream",
     "text": [
      "Иванов:\n",
      "Мексиканская: 2\n",
      "Мясная: 3\n",
      "Пепперони: 3\n",
      "Петров:\n",
      "Де-Люкс: 2\n",
      "Интересная: 5\n"
     ]
    }
   ],
   "source": [
    "tsk2()"
   ]
  },
  {
   "cell_type": "markdown",
   "id": "ba55b669-a8fe-4e25-bb62-34b639532421",
   "metadata": {},
   "source": [
    " "
   ]
  },
  {
   "cell_type": "markdown",
   "id": "81f4fe9e-401e-4406-bb8a-f5625b04c40f",
   "metadata": {},
   "source": [
    "# Задание 3\n",
    "\n",
    " Иван и Сергей решили сыграть в игру «Угадайка». Иван загадал \n",
    "натуральное число от 1 до N. Сергей пытается угадать это число, для этого он \n",
    "называет несколько чисел подряд. Иван отвечает Сергею “Да”, если среди \n",
    "названных Сергеем чисел есть задуманное. В противном случае Иван \n",
    "отвечает “Нет”. После нескольких заданных вопросов Сергей сдался и \n",
    "попросил вас помочь ему определить, какие числа мог задумать Иван.\n",
    "Напишите программу, которая имитирует диалог Ивана и Сергея. В \n",
    "начале на вход подаётся число N - это максимальное число, которое мог \n",
    "загадать Иван. Затем Сергей предполагает, что среди некоторых чисел есть \n",
    "то, которое загадал Иван (несколько чисел через пробел), а Иван отвечает. \n",
    "Так продолжается до тех пор, пока Сергей не попросит помощи (пока не \n",
    "введётся строка “Помогите!”) или Сергей не угадает число. В конце \n",
    "программы необходимо вывести, какие числа мог загадать Иван.\n",
    "\n",
    "#Пример реализации:\n",
    "```\n",
    "Введите максимальное число: 10\n",
    "\n",
    "Нужное число есть среди вот этих чисел: 1 2 3 4 5\n",
    "Ответ Ивана: Да\n",
    "\n",
    "Нужное число есть среди вот этих чисел: 2 4 6 8 10\n",
    "Ответ Ивана: Нет\n",
    "\n",
    "Нужное число есть среди вот этих чисел: Помогите!\n",
    "Иван мог загадать следующие числа: 1 3 5\n",
    "```"
   ]
  },
  {
   "cell_type": "code",
   "execution_count": 12,
   "id": "18da3f4c-0203-4beb-ab61-e12e30983580",
   "metadata": {},
   "outputs": [],
   "source": [
    "from random import randint\n",
    "\n",
    "def tsk3():\n",
    "    n = int(input(\"Введите максимальное число: \"))\n",
    "    num = randint(1, n)\n",
    "    num = {num} # set\n",
    "\n",
    "    help = set()\n",
    "    help = help.union(num)\n",
    "\n",
    "    ok = False\n",
    "    \n",
    "    while not ok:\n",
    "        req = input(\"Нужное число есть среди вот этих чисел: \").split()\n",
    "        \n",
    "        if req[0] == \"Помогите!\":\n",
    "            print(f\"Иван мог загадать следующие числа:{[*help]}\")\n",
    "            return\n",
    "\n",
    "        req = set(map(int, req))\n",
    "\n",
    "        # check\n",
    "        if req == num:\n",
    "            print(\"Поздраляю, ты угадал\")\n",
    "            return    \n",
    "        elif num.issubset(req):\n",
    "            print(\"Ответ Ивана: Да\")\n",
    "            help = help.union(req)\n",
    "        else:\n",
    "            print(\"Ответ Ивана: Нет\")\n",
    "            help = help.difference(req)\n",
    "            "
   ]
  },
  {
   "cell_type": "code",
   "execution_count": null,
   "id": "189911f7-70a9-4720-b2c0-aa496e33423c",
   "metadata": {},
   "outputs": [
    {
     "name": "stdin",
     "output_type": "stream",
     "text": [
      "Введите максимальное число:  10\n",
      "Нужное число есть среди вот этих чисел:  1 2 3 4 5\n",
      "Нужное число есть среди вот этих чисел:  1 2 3 4 5\n"
     ]
    },
    {
     "name": "stdout",
     "output_type": "stream",
     "text": [
      "Ответ Ивана: Да\n"
     ]
    }
   ],
   "source": [
    "tsk3()"
   ]
  },
  {
   "cell_type": "code",
   "execution_count": null,
   "id": "42402133-3aeb-4fc7-ae4c-06e4ee067ef5",
   "metadata": {},
   "outputs": [],
   "source": []
  },
  {
   "cell_type": "code",
   "execution_count": null,
   "id": "49674cd0-c189-4c27-ba08-d1d4edc8993f",
   "metadata": {},
   "outputs": [],
   "source": []
  }
 ],
 "metadata": {
  "kernelspec": {
   "display_name": "Python 3 (ipykernel)",
   "language": "python",
   "name": "python3"
  },
  "language_info": {
   "codemirror_mode": {
    "name": "ipython",
    "version": 3
   },
   "file_extension": ".py",
   "mimetype": "text/x-python",
   "name": "python",
   "nbconvert_exporter": "python",
   "pygments_lexer": "ipython3",
   "version": "3.10.1"
  }
 },
 "nbformat": 4,
 "nbformat_minor": 5
}
