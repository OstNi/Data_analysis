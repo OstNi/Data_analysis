{
 "cells": [
  {
   "cell_type": "markdown",
   "id": "f6636f56a2f67b55",
   "metadata": {
    "collapsed": false,
    "jupyter": {
     "outputs_hidden": false
    }
   },
   "source": [
    "## Задание №1\n",
    "\n",
    "Напишите программу «Угадайка», в которой компьютер «загадывает» целое \n",
    "число от 1 до 100 и предлагает пользователю угадать его. После каждого ответа \n",
    "пользователя должно выводиться сообщение, больше загаданное число или меньше. (0,5 \n",
    "балла)"
   ]
  },
  {
   "cell_type": "code",
   "execution_count": 16,
   "id": "960d867f70b9a3c5",
   "metadata": {
    "ExecuteTime": {
     "end_time": "2023-10-12T23:00:33.614546Z",
     "start_time": "2023-10-12T23:00:33.426919Z"
    },
    "collapsed": false,
    "jupyter": {
     "outputs_hidden": false
    }
   },
   "outputs": [],
   "source": [
    "from random import randint\n",
    "\n",
    "def _check_num() -> int:\n",
    "    ok = False\n",
    "    while not ok:\n",
    "        ask = input(\"Введите число\")\n",
    "        if ask.isdigit():\n",
    "            ok = True\n",
    "        else:\n",
    "            print(\"Вы ввели не число. Повторите попытку\")\n",
    "    return int(ask)\n",
    "        \n",
    "\n",
    "def task1_solution():\n",
    "    rand_num = randint(1,100)\n",
    "    print(f\"--загаданное число {rand_num}\")\n",
    "    ask = -1\n",
    "    while ask != rand_num:\n",
    "        ask = _check_num()\n",
    "        if ask > rand_num:\n",
    "            print(\"Введенное число больше загаданного\")\n",
    "        elif ask < rand_num:\n",
    "            print(\"Введенное число меньше загаданного\")\n",
    "            \n",
    "    print(f\"Поздравляю, ты победил, я загадал число {rand_num}\")\n"
   ]
  },
  {
   "cell_type": "code",
   "execution_count": 17,
   "id": "f59bbd73-4f4d-4a72-aaa5-0af6d19c18a3",
   "metadata": {},
   "outputs": [
    {
     "name": "stdout",
     "output_type": "stream",
     "text": [
      "--загаданное число 83\n"
     ]
    },
    {
     "name": "stdin",
     "output_type": "stream",
     "text": [
      "Введите число 50\n"
     ]
    },
    {
     "name": "stdout",
     "output_type": "stream",
     "text": [
      "Введенное число меньше загаданного\n"
     ]
    },
    {
     "name": "stdin",
     "output_type": "stream",
     "text": [
      "Введите число 75\n"
     ]
    },
    {
     "name": "stdout",
     "output_type": "stream",
     "text": [
      "Введенное число меньше загаданного\n"
     ]
    },
    {
     "name": "stdin",
     "output_type": "stream",
     "text": [
      "Введите число 90\n"
     ]
    },
    {
     "name": "stdout",
     "output_type": "stream",
     "text": [
      "Введенное число больше загаданного\n"
     ]
    },
    {
     "name": "stdin",
     "output_type": "stream",
     "text": [
      "Введите число 85\n"
     ]
    },
    {
     "name": "stdout",
     "output_type": "stream",
     "text": [
      "Введенное число больше загаданного\n"
     ]
    },
    {
     "name": "stdin",
     "output_type": "stream",
     "text": [
      "Введите число 80\n"
     ]
    },
    {
     "name": "stdout",
     "output_type": "stream",
     "text": [
      "Введенное число меньше загаданного\n"
     ]
    },
    {
     "name": "stdin",
     "output_type": "stream",
     "text": [
      "Введите число 82\n"
     ]
    },
    {
     "name": "stdout",
     "output_type": "stream",
     "text": [
      "Введенное число меньше загаданного\n"
     ]
    },
    {
     "name": "stdin",
     "output_type": "stream",
     "text": [
      "Введите число 83\n"
     ]
    },
    {
     "name": "stdout",
     "output_type": "stream",
     "text": [
      "Поздравляю, ты победил, я загадал число 83\n"
     ]
    }
   ],
   "source": [
    "task1_solution()"
   ]
  },
  {
   "cell_type": "markdown",
   "id": "cfc57167-4a21-45ba-8dd7-ffa63ba1b659",
   "metadata": {},
   "source": [
    " "
   ]
  },
  {
   "cell_type": "markdown",
   "id": "f570f823-6bbf-4466-9386-ca695c7c8018",
   "metadata": {},
   "source": [
    "## Задание№2\n",
    "\n",
    "Напишите программу решения квадратного уравнения, учитывая, что все\n",
    "коэффиценты - НЕНУЛЕВЫЕ. на python"
   ]
  },
  {
   "cell_type": "code",
   "execution_count": 18,
   "id": "2bdcd939-8456-49f0-a752-aeca41f3e246",
   "metadata": {},
   "outputs": [],
   "source": [
    "import math \n",
    "\n",
    "def task2_solution():\n",
    "    a, b, c = map(int, input(\"Введите коэф a,b,c через пробел\").split())\n",
    "    discriminant = b**2 - 4*a*c\n",
    "\n",
    "    if discriminant < 0:\n",
    "        return \"Уравнение не имеет действительных корней\"\n",
    "\n",
    "    elif discriminant == 0:\n",
    "        x = -b / (2*a)\n",
    "        return \"Уравнение имеет один корень: x = \" + str(x)\n",
    "\n",
    "    else:\n",
    "        x1 = (-b + math.sqrt(discriminant)) / (2*a)\n",
    "        x2 = (-b - math.sqrt(discriminant)) / (2*a)\n",
    "        return \"Уравнение имеет два корня: x1 = \" + str(x1) + \", x2 = \" + str(x2)\n"
   ]
  },
  {
   "cell_type": "code",
   "execution_count": 20,
   "id": "9f0d8a1d-9abc-4799-8aeb-c1710c6bcc5c",
   "metadata": {},
   "outputs": [
    {
     "name": "stdin",
     "output_type": "stream",
     "text": [
      "Введите коэф a,b,c через пробел 4 -1 -5\n"
     ]
    },
    {
     "data": {
      "text/plain": [
       "'Уравнение имеет два корня: x1 = 1.25, x2 = -1.0'"
      ]
     },
     "execution_count": 20,
     "metadata": {},
     "output_type": "execute_result"
    }
   ],
   "source": [
    "task2_solution()"
   ]
  },
  {
   "cell_type": "markdown",
   "id": "c6d27325-eec3-495a-ba15-01d48dc1b970",
   "metadata": {},
   "source": [
    " "
   ]
  },
  {
   "cell_type": "markdown",
   "id": "4cc834f0-c9bc-4de1-a2ed-33eb7857c519",
   "metadata": {},
   "source": [
    "## Задание№3\n",
    "\n",
    "Между двумя командами A и B проводится КВН. Победителям КВН достанется \n",
    "большой пирог. В команде A всего Nчеловек, а в команде B — Mчеловек. Нужно заранее \n",
    "разрезать пирог таким образом, чтобы можно было раздать кусочки пирога любой \n",
    "команде, выигравшей соревнование, при этом каждому участнику этой команды должно \n",
    "достаться одинаковое число кусочков пирога. И так как не хочется резать пирог на \n",
    "слишком мелкие кусочки, нужно найти минимальное подходящее число. Напишите \n",
    "программу, которая помогает найти это число. Программа должна считывать размеры \n",
    "команды и выводить наименьшее число d, которое делится на оба этих числа без остатка. \n",
    "(0,5 балла)"
   ]
  },
  {
   "cell_type": "code",
   "execution_count": 22,
   "id": "db70b81a-405c-47fe-881b-8de10bb25299",
   "metadata": {},
   "outputs": [],
   "source": [
    "def task3_solution():\n",
    "    n, m = map(int, input(\"Введите числа N и M через пробел: \").split())\n",
    "    max_val = max(m,n)\n",
    "\n",
    "    for i in range(max_val, n*m + 1):\n",
    "        if i % n == 0 and i % m == 0:\n",
    "            print(f\"d = {i}\")\n",
    "            return"
   ]
  },
  {
   "cell_type": "code",
   "execution_count": 25,
   "id": "0498ceb6-a2ac-4626-a121-ffa9a03d6b5e",
   "metadata": {},
   "outputs": [
    {
     "name": "stdin",
     "output_type": "stream",
     "text": [
      "Введите числа N и M через пробел:  8 3\n"
     ]
    },
    {
     "name": "stdout",
     "output_type": "stream",
     "text": [
      "d = 24\n"
     ]
    }
   ],
   "source": [
    "task3_solution()"
   ]
  },
  {
   "cell_type": "markdown",
   "id": "c65827f7-d335-437b-a7aa-96aa77f4dde6",
   "metadata": {},
   "source": [
    " "
   ]
  },
  {
   "cell_type": "markdown",
   "id": "f15bced5-756f-46ce-bc31-a2f22439739e",
   "metadata": {},
   "source": [
    "# Задание№4\n",
    "\n",
    "Васе нужно снять в банкомате определенную сумму. В банкомате есть купюры \n",
    "номиналом 100, 200, 500, 1000 и 5000 рублей. Банкомат выдает деньги таким образом, \n",
    "чтобы количество купюр было минимальным. Посчитайте, сколько купюр каждого \n",
    "достоинства будет выдано Васе. Предусмотреть ситуацию, когда выдача данной суммы \n",
    "невозможна (например, 250 рублей). Вывести полученную информацию в текстовый \n",
    "файл. (1,5 балла)"
   ]
  },
  {
   "cell_type": "code",
   "execution_count": 30,
   "id": "43b18afc-3167-401b-a9e5-ae6b8a34edbf",
   "metadata": {},
   "outputs": [],
   "source": [
    " denominations = [5000, 1000, 500, 200, 100]\n",
    "\n",
    "def write_to_file(counts):\n",
    "    with open(\"output.txt\", \"w\") as file:\n",
    "        for i in range(len(denominations)):\n",
    "            file.write(f\"val {denominations[i]}: count {counts[i]} \\n\")\n",
    "\n",
    "def task4_solution():\n",
    "    amount = int(input(\"Введите сумму для снятия: \"))\n",
    "    counts = []\n",
    "\n",
    "    for denomination in denominations:\n",
    "        count = amount // denomination\n",
    "        counts.append(count)\n",
    "        amount %= denomination\n",
    "\n",
    "    if amount != 0:\n",
    "        print(\"Выдача данной суммы невозможна.\")\n",
    "        return\n",
    "\n",
    "    write_to_file(counts)\n",
    "    for i in range(len(denominations)):\n",
    "            print(f\"val {denominations[i]}: count {counts[i]}\")"
   ]
  },
  {
   "cell_type": "code",
   "execution_count": 31,
   "id": "39ff9c69-feef-4194-829a-bc9552b74a2d",
   "metadata": {},
   "outputs": [
    {
     "name": "stdin",
     "output_type": "stream",
     "text": [
      "Введите сумму для снятия:  300\n"
     ]
    },
    {
     "name": "stdout",
     "output_type": "stream",
     "text": [
      "val 5000: count 0\n",
      "val 1000: count 0\n",
      "val 500: count 0\n",
      "val 200: count 1\n",
      "val 100: count 1\n"
     ]
    }
   ],
   "source": [
    "task4_solution()"
   ]
  },
  {
   "cell_type": "markdown",
   "id": "bdbd789c-5bd9-4413-9a47-ba6c1dc7103d",
   "metadata": {},
   "source": [
    " "
   ]
  },
  {
   "cell_type": "markdown",
   "id": "3b3eb335-b198-4d08-b448-163286ba3edd",
   "metadata": {},
   "source": [
    "## Задание№5\n",
    "\n",
    "Управляемый РОБОТ тестируется в прямоугольном помещении размером NхM \n",
    "метров (N, M <= 10).  Начальное положение РОБОТА  задается с клавиатуры. Оператор \n",
    "управляет РОБОТом командами:\n",
    " север N,\n",
    " юг S,\n",
    " запад W,\n",
    " восток E,\n",
    " закончить X.\n",
    "После каждой команды РОБОТ перемещается на 1 метр в нужную сторону, и \n",
    "программа сообщает его новую позицию. Если РОБОТ упёрся в стену, то он не \n",
    "должен пытаться перемещаться в сторону стены, в этом случае его позиция не \n",
    "меняется. Размеры комнаты и начальное положение (отсчет снизу вверх и слева \n",
    "направо) считываются с клавиатуры. \n",
    "Пример\n",
    "Размеры комнаты: 10 10\n",
    "Начальное положение 9 5 \n",
    "Содержимое файла:\n",
    "N N W S X\n",
    "Результат:\n",
    "Марсоход находится на позиции 10, 5\n",
    "Марсоход находится на позиции 10, 5\n",
    "Марсоход находится на позиции 10, 4\n",
    "Марсоход находится на позиции 9, 4\n",
    "СТОП"
   ]
  },
  {
   "cell_type": "code",
   "execution_count": 2,
   "id": "ae1bb8f9-c82e-4ea8-ab36-1bb050f5d2fc",
   "metadata": {
    "ExecuteTime": {
     "end_time": "2023-10-13T00:22:33.031077Z",
     "start_time": "2023-10-13T00:22:33.000406Z"
    }
   },
   "outputs": [],
   "source": [
    "def read_file() -> list[str]:\n",
    "    with open(\"commands.txt\", \"r\") as file:\n",
    "        commands = list(file.read().split())\n",
    "    return commands\n",
    "\n",
    "\n",
    "def task5_solution():\n",
    "    m, n = map(int, input(\"Размеры комнаты: \").split())\n",
    "    curr_y, curr_x = map(int, input(\"Начальное положение: \").split())\n",
    "    \n",
    "    def N():\n",
    "         nonlocal curr_y\n",
    "         if curr_y < m:\n",
    "             curr_y += 1\n",
    "\n",
    "    def S():\n",
    "        nonlocal curr_y\n",
    "        if curr_y > 0:\n",
    "            curr_y -= 1\n",
    "    \n",
    "    def W():\n",
    "        nonlocal curr_x\n",
    "        if curr_x > 0:\n",
    "             curr_x -= 1\n",
    "\n",
    "    def E():\n",
    "        nonlocal curr_x\n",
    "        if curr_x < n:\n",
    "            curr_x += 1      \n",
    "        \n",
    "    cmd = {\n",
    "        'N': N,\n",
    "        'S': S,\n",
    "        'W': W,\n",
    "        'E': E\n",
    "    }\n",
    "\n",
    "    cmd_list = read_file()\n",
    "    print(cmd_list)\n",
    "    for cmd_i in cmd_list:\n",
    "        if cmd_i in cmd:\n",
    "            cmd[cmd_i]()\n",
    "            print(f\"Марсоход находится на позиции {curr_y}, {curr_x}\")\n",
    "            \n",
    "        if cmd_i == 'X':\n",
    "            print(\"СТОП\")\n",
    "            return\n",
    "\n",
    "    "
   ]
  },
  {
   "cell_type": "code",
   "execution_count": 3,
   "id": "7a0e1a8d-40db-49e3-a6f5-33d957ac90d3",
   "metadata": {
    "ExecuteTime": {
     "end_time": "2023-10-13T00:22:40.598759Z",
     "start_time": "2023-10-13T00:22:34.450570Z"
    }
   },
   "outputs": [
    {
     "name": "stdout",
     "output_type": "stream",
     "text": [
      "['N', 'N', 'W', 'S', 'X']\n",
      "Марсоход находится на позиции 10, 5\n",
      "Марсоход находится на позиции 10, 5\n",
      "Марсоход находится на позиции 10, 4\n",
      "Марсоход находится на позиции 9, 4\n",
      "СТОП\n"
     ]
    }
   ],
   "source": [
    "task5_solution()"
   ]
  },
  {
   "cell_type": "markdown",
   "id": "51b221f1-4bee-41c0-acd5-3300ee21bfaf",
   "metadata": {},
   "source": [
    " "
   ]
  },
  {
   "cell_type": "markdown",
   "id": "0e76428b-173b-4b25-87dc-18d880855c50",
   "metadata": {},
   "source": [
    "## Задание№6\n",
    "\n",
    "Напишите игру - текстовый квест.  Игрок находится в квартире, его задача - \n",
    "покинуть ее.  Игрок свободно перемещается по квартире, пока не покинет ее.\n",
    " В квартире есть три комнаты (спальня, кухня, ванная) и коридор.\n",
    " В ванную можно попасть из коридора и спальни.\n",
    " В спальню можно попасть из ванной и коридора.\n",
    " На кухню можно попасть только из коридора.\n",
    " Коридор связан со всеми комнатами, но в нем дополнительно есть дверь наружу.\n",
    " На кухне открыто окно.\n",
    " Если игрок пытается выбраться через него, то разбивается и проигрывает (2 балла)\n",
    "\n",
    "#Пример:\n",
    "#Вы в спальне. Куда идем?\n",
    "#1 - в ванную\n",
    "#2 - в коридор\n",
    "\n",
    "#2\n",
    "#Вы в коридоре. Куда идем?\n",
    "#1 - в спальню\n",
    "#2 - в ванную\n",
    "#3 - на кухню\n",
    "#4 - в дверь\n",
    "\n",
    "#2\n",
    "#Вы в ванной. Куда идем?\n",
    "#1 - в коридор\n",
    "#2 - в спальню\n",
    "\n",
    "#2\n",
    "#Вы в спальне..."
   ]
  },
  {
   "cell_type": "code",
   "execution_count": 63,
   "id": "abf39d27-37bd-4fc1-b863-fa79fb79793f",
   "metadata": {},
   "outputs": [],
   "source": [
    "def task6_solution():\n",
    "    rooms = {\n",
    "        \"спальня\": [\"коридор\", \"ванная\"],\n",
    "        \"кухня\": [\"коридор\", \"окно\"],\n",
    "        \"ванная\": [\"спальня\", \"коридор\"],\n",
    "        \"коридор\": [\"спальня\", \"кухня\", \"ванная\", \"дверь\"]\n",
    "    }\n",
    "\n",
    "    current_room = \"спальня\"\n",
    "\n",
    "    while current_room != \"дверь\":\n",
    "        print(f\"Вы в {current_room}. Куда идем?\")\n",
    "        options = rooms[current_room]\n",
    "        for i, option in enumerate(options, start=1):\n",
    "            print(f\"{i} - в {option}\")\n",
    "        choice = int(input())\n",
    "        if choice < 1 or choice > len(options):\n",
    "            print(\"Некорректный выбор. Попробуйте еще раз.\")\n",
    "            continue\n",
    "        current_room = options[choice - 1]\n",
    "        \n",
    "        if current_room == \"окно\":\n",
    "            print(\"Вы разбились\")\n",
    "            return\n",
    "\n",
    "    print(\"Вы выбрались из квартиры. Поздравляю!\")"
   ]
  },
  {
   "cell_type": "code",
   "execution_count": 65,
   "id": "8a744c6c-666c-4472-8258-67b3928ff2de",
   "metadata": {},
   "outputs": [
    {
     "name": "stdout",
     "output_type": "stream",
     "text": [
      "Вы в спальня. Куда идем?\n",
      "1 - в коридор\n",
      "2 - в ванная\n"
     ]
    },
    {
     "name": "stdin",
     "output_type": "stream",
     "text": [
      " 1\n"
     ]
    },
    {
     "name": "stdout",
     "output_type": "stream",
     "text": [
      "Вы в коридор. Куда идем?\n",
      "1 - в спальня\n",
      "2 - в кухня\n",
      "3 - в ванная\n",
      "4 - в дверь\n"
     ]
    },
    {
     "name": "stdin",
     "output_type": "stream",
     "text": [
      " 2\n"
     ]
    },
    {
     "name": "stdout",
     "output_type": "stream",
     "text": [
      "Вы в кухня. Куда идем?\n",
      "1 - в коридор\n",
      "2 - в окно\n"
     ]
    },
    {
     "name": "stdin",
     "output_type": "stream",
     "text": [
      " 2\n"
     ]
    },
    {
     "name": "stdout",
     "output_type": "stream",
     "text": [
      "Вы разбились\n"
     ]
    }
   ],
   "source": [
    "task6_solution()"
   ]
  },
  {
   "cell_type": "markdown",
   "id": "51d05721-a6ed-4e6a-bf9b-aacc70d03f84",
   "metadata": {},
   "source": [
    " "
   ]
  },
  {
   "cell_type": "markdown",
   "id": "bc3dc964-8c86-4a9a-a4ea-dc5cc99c9e78",
   "metadata": {},
   "source": [
    "## Задание№7\n",
    "\n",
    "Напишите программу, которая запрашивает числитель и знаменатель K простых \n",
    "положительных дробей и вычисляет их сумму. Ответ должен выводиться  в виде \n",
    "правильной несократимой дроби. Обязательно использовать функции для \n",
    "сложения двух дробей и для поиска НОД. Исходные дроби не обязательно \n",
    "несократимые. Например:\n",
    "Количество дробей: 3\n",
    "Числитель 1: 100\n",
    "Знаменатель 1: 200\n",
    "Числитель 2: 300\n",
    "Знаменатель 2: 400\n",
    "Числитель 3: 500\n",
    "Знаменатель 3: 1500\n",
    "Ответ: 1 7/12     (3)"
   ]
  },
  {
   "cell_type": "code",
   "execution_count": 66,
   "id": "073c1a40-b19b-4c31-be52-94b32d7abde8",
   "metadata": {},
   "outputs": [],
   "source": [
    "def gcd(a, b):\n",
    "    \"\"\" Наибольший общий делитель \"\"\"\n",
    "    while b != 0:\n",
    "        a, b = b, a % b\n",
    "    return a\n",
    "\n",
    "\n",
    "def pls_fractions(num1, den1, num2, den2):\n",
    "    \"\"\" Сложение дробей \"\"\"\n",
    "    \n",
    "    o_den = den1 * den2 # ообщий знаменатель\n",
    "    \n",
    "    num = (num1 * den2) + (num2 * den1) # домножаем числители\n",
    "\n",
    "    res_gcd = gcd(num, o_den) # находим НОД\n",
    "    \n",
    "    num = num // res_gcd # сокращаем числитель\n",
    "    \n",
    "    o_den = o_den // res_gcd # сокращаем знаменатеот\n",
    "\n",
    "    return num, o_den\n",
    "\n",
    "\n",
    "def task7_solution():\n",
    "    n = int(input(\"Количество дробей: \"))\n",
    "    \n",
    "    sum_num = 0\n",
    "    sum_den = 1\n",
    "    \n",
    "    for i in range(n):\n",
    "        num = int(input(f\"Числитель {i+1}: \"))\n",
    "        den = int(input(f\"Знаменатель {i+1}: \"))\n",
    "        \n",
    "        sum_num, sum_den = pls_fractions(sum_num, sum_den, num, den)\n",
    "\n",
    "    int_part = sum_num // sum_den\n",
    "    frc_part = sum_num % sum_den\n",
    "    \n",
    "    if frc_part == 0:\n",
    "        print(f\"Ответ: {integer_part}\")\n",
    "    else:\n",
    "        # сокращаем дробь\n",
    "        gcd_frc = gcd(frс_part, sum_den)\n",
    "        num = frc_part // gcd_frc\n",
    "        den = sum_den // gcd_frc\n",
    "    \n",
    "        if integer_part == 0:\n",
    "            print(f\"Ответ: {num}/{den}\")\n",
    "        else:\n",
    "            print(f\"Ответ: {int_part} {num}/{den}\")\n",
    "\n",
    "\n"
   ]
  },
  {
   "cell_type": "code",
   "execution_count": 67,
   "id": "c18c5d74-6bb4-4a23-8da8-19a2866d2b22",
   "metadata": {},
   "outputs": [
    {
     "name": "stdin",
     "output_type": "stream",
     "text": [
      "Количество дробей:  3\n",
      "Числитель 1:  100\n",
      "Знаменатель 1:  200\n"
     ]
    },
    {
     "ename": "UnboundLocalError",
     "evalue": "local variable 'gcd' referenced before assignment",
     "output_type": "error",
     "traceback": [
      "\u001b[0;31m---------------------------------------------------------------------------\u001b[0m",
      "\u001b[0;31mUnboundLocalError\u001b[0m                         Traceback (most recent call last)",
      "Cell \u001b[0;32mIn[67], line 1\u001b[0m\n\u001b[0;32m----> 1\u001b[0m \u001b[43mtask7_solution\u001b[49m\u001b[43m(\u001b[49m\u001b[43m)\u001b[49m\n",
      "Cell \u001b[0;32mIn[66], line 34\u001b[0m, in \u001b[0;36mtask7_solution\u001b[0;34m()\u001b[0m\n\u001b[1;32m     31\u001b[0m     num \u001b[38;5;241m=\u001b[39m \u001b[38;5;28mint\u001b[39m(\u001b[38;5;28minput\u001b[39m(\u001b[38;5;124mf\u001b[39m\u001b[38;5;124m\"\u001b[39m\u001b[38;5;124mЧислитель \u001b[39m\u001b[38;5;132;01m{\u001b[39;00mi\u001b[38;5;241m+\u001b[39m\u001b[38;5;241m1\u001b[39m\u001b[38;5;132;01m}\u001b[39;00m\u001b[38;5;124m: \u001b[39m\u001b[38;5;124m\"\u001b[39m))\n\u001b[1;32m     32\u001b[0m     den \u001b[38;5;241m=\u001b[39m \u001b[38;5;28mint\u001b[39m(\u001b[38;5;28minput\u001b[39m(\u001b[38;5;124mf\u001b[39m\u001b[38;5;124m\"\u001b[39m\u001b[38;5;124mЗнаменатель \u001b[39m\u001b[38;5;132;01m{\u001b[39;00mi\u001b[38;5;241m+\u001b[39m\u001b[38;5;241m1\u001b[39m\u001b[38;5;132;01m}\u001b[39;00m\u001b[38;5;124m: \u001b[39m\u001b[38;5;124m\"\u001b[39m))\n\u001b[0;32m---> 34\u001b[0m     sum_num, sum_den \u001b[38;5;241m=\u001b[39m \u001b[43mpls_fractions\u001b[49m\u001b[43m(\u001b[49m\u001b[43msum_num\u001b[49m\u001b[43m,\u001b[49m\u001b[43m \u001b[49m\u001b[43msum_den\u001b[49m\u001b[43m,\u001b[49m\u001b[43m \u001b[49m\u001b[43mnum\u001b[49m\u001b[43m,\u001b[49m\u001b[43m \u001b[49m\u001b[43mden\u001b[49m\u001b[43m)\u001b[49m\n\u001b[1;32m     36\u001b[0m int_part \u001b[38;5;241m=\u001b[39m sum_num \u001b[38;5;241m/\u001b[39m\u001b[38;5;241m/\u001b[39m sum_den\n\u001b[1;32m     37\u001b[0m frc_part \u001b[38;5;241m=\u001b[39m sum_num \u001b[38;5;241m%\u001b[39m sum_den\n",
      "Cell \u001b[0;32mIn[66], line 15\u001b[0m, in \u001b[0;36mpls_fractions\u001b[0;34m(num1, den1, num2, den2)\u001b[0m\n\u001b[1;32m     11\u001b[0m o_den \u001b[38;5;241m=\u001b[39m den1 \u001b[38;5;241m*\u001b[39m den2 \u001b[38;5;66;03m# ообщий знаменатель\u001b[39;00m\n\u001b[1;32m     13\u001b[0m num \u001b[38;5;241m=\u001b[39m (num1 \u001b[38;5;241m*\u001b[39m den2) \u001b[38;5;241m+\u001b[39m (num2 \u001b[38;5;241m*\u001b[39m den1) \u001b[38;5;66;03m# домножаем числители\u001b[39;00m\n\u001b[0;32m---> 15\u001b[0m gcd \u001b[38;5;241m=\u001b[39m \u001b[43mgcd\u001b[49m(num, o_den) \u001b[38;5;66;03m# находим НОД\u001b[39;00m\n\u001b[1;32m     17\u001b[0m num \u001b[38;5;241m=\u001b[39m num \u001b[38;5;241m/\u001b[39m\u001b[38;5;241m/\u001b[39m gcd \u001b[38;5;66;03m# сокращаем числитель\u001b[39;00m\n\u001b[1;32m     19\u001b[0m o_den \u001b[38;5;241m=\u001b[39m o_den \u001b[38;5;241m/\u001b[39m\u001b[38;5;241m/\u001b[39m gcd \u001b[38;5;66;03m# сокращаем знаменатеот\u001b[39;00m\n",
      "\u001b[0;31mUnboundLocalError\u001b[0m: local variable 'gcd' referenced before assignment"
     ]
    }
   ],
   "source": [
    "task7_solution()"
   ]
  }
 ],
 "metadata": {
  "kernelspec": {
   "display_name": "Python 3 (ipykernel)",
   "language": "python",
   "name": "python3"
  },
  "language_info": {
   "codemirror_mode": {
    "name": "ipython",
    "version": 3
   },
   "file_extension": ".py",
   "mimetype": "text/x-python",
   "name": "python",
   "nbconvert_exporter": "python",
   "pygments_lexer": "ipython3",
   "version": "3.10.1"
  }
 },
 "nbformat": 4,
 "nbformat_minor": 5
}
